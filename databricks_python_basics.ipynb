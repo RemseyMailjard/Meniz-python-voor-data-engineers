{
 "cells": [
  {
   "cell_type": "markdown",
   "id": "ea6ca64a",
   "metadata": {},
   "source": [
    "# Databricks Markdown Notebook: Python Basics for Data Engineers at Menzis"
   ]
  },
  {
   "cell_type": "markdown",
   "id": "9f6217c2",
   "metadata": {},
   "source": [
    "## 1. Basis Syntaxis"
   ]
  },
  {
   "cell_type": "code",
   "execution_count": 1,
   "id": "25ddecfa",
   "metadata": {},
   "outputs": [
    {
     "name": "stdout",
     "output_type": "stream",
     "text": [
      "Menzis heeft 1500 patienten met een totale zorgkosten van €12345.67.\n"
     ]
    }
   ],
   "source": [
    "# Variabelen en datatypes\n",
    "aantal_patienten = 1500  # Integer\n",
    "zorgkosten = 12345.67  # Float\n",
    "zorginstelling = \"Menzis\"  # String\n",
    "print(f\"{zorginstelling} heeft {aantal_patienten} patienten met een totale zorgkosten van €{zorgkosten}.\")\n"
   ]
  },
  {
   "cell_type": "markdown",
   "id": "7c97cb8d",
   "metadata": {},
   "source": [
    "## 2. String Expressies"
   ]
  },
  {
   "cell_type": "code",
   "execution_count": null,
   "id": "1716cfb9",
   "metadata": {},
   "outputs": [],
   "source": [
    "# String manipulatie\n",
    "patient_naam = \"Jan Jansen\"\n",
    "print(patient_naam.upper())  # Alles in hoofdletters\n",
    "print(patient_naam.lower())  # Alles in kleine letters\n",
    "print(patient_naam.replace(\"Jan\", \"Piet\"))  # Naam vervangen\n"
   ]
  },
  {
   "cell_type": "markdown",
   "id": "3523c0cc",
   "metadata": {},
   "source": [
    "## 3. Number Expressies"
   ]
  },
  {
   "cell_type": "code",
   "execution_count": null,
   "id": "53eb0115",
   "metadata": {},
   "outputs": [],
   "source": [
    "# Basis wiskunde\n",
    "medicatie_kosten = 49.99\n",
    "verzekering_korting = 10  # In procenten\n",
    "totale_kosten = medicatie_kosten * (1 - verzekering_korting / 100)\n",
    "print(round(totale_kosten, 2))  # Afronden op 2 decimalen\n"
   ]
  },
  {
   "cell_type": "markdown",
   "id": "e9036701",
   "metadata": {},
   "source": [
    "## 4. DateTime Expressies"
   ]
  },
  {
   "cell_type": "code",
   "execution_count": null,
   "id": "707f0e3f",
   "metadata": {},
   "outputs": [],
   "source": [
    "from datetime import datetime, timedelta\n",
    "\n",
    "# Huidige datum en tijd\n",
    "nu = datetime.now()\n",
    "print(\"Huidige datum en tijd:\", nu)\n",
    "\n",
    "# Datum manipuleren (bijv. 30 dagen vooruit)\n",
    "toekomstige_datum = nu + timedelta(days=30)\n",
    "print(\"Toekomstige datum:\", toekomstige_datum.strftime('%Y-%m-%d'))\n"
   ]
  },
  {
   "cell_type": "markdown",
   "id": "7f4f5678",
   "metadata": {},
   "source": [
    "## 5. Logische Expressies"
   ]
  },
  {
   "cell_type": "code",
   "execution_count": null,
   "id": "b53d60d3",
   "metadata": {},
   "outputs": [],
   "source": [
    "# If-statements\n",
    "leeftijd = 70\n",
    "if leeftijd >= 65:\n",
    "    print(\"Deze patiënt komt in aanmerking voor extra zorgondersteuning.\")\n",
    "else:\n",
    "    print(\"Geen extra ondersteuning vereist.\")\n"
   ]
  },
  {
   "cell_type": "markdown",
   "id": "f672f938",
   "metadata": {},
   "source": [
    "## 6. List Expressies"
   ]
  },
  {
   "cell_type": "code",
   "execution_count": null,
   "id": "77878038",
   "metadata": {},
   "outputs": [],
   "source": [
    "# Werken met lijsten\n",
    "patiënten = [\"Jan\", \"Piet\", \"Marie\"]\n",
    "patiënten.append(\"Karin\")  # Toevoegen\n",
    "print(patiënten)\n",
    "print(patiënten[1])  # Tweede patiënt\n"
   ]
  },
  {
   "cell_type": "markdown",
   "id": "c2b078e1",
   "metadata": {},
   "source": [
    "## 7. Dictionary Expressies"
   ]
  },
  {
   "cell_type": "code",
   "execution_count": null,
   "id": "8c84a7be",
   "metadata": {},
   "outputs": [],
   "source": [
    "# Key-Value Data\n",
    "patiënt_data = {\"naam\": \"Jan Jansen\", \"leeftijd\": 45, \"verzekering\": \"Basis\"}\n",
    "print(patiënt_data[\"naam\"])\n"
   ]
  },
  {
   "cell_type": "markdown",
   "id": "088a1162",
   "metadata": {},
   "source": [
    "## 8. Loops"
   ]
  },
  {
   "cell_type": "code",
   "execution_count": null,
   "id": "11daa40f",
   "metadata": {},
   "outputs": [],
   "source": [
    "# For-loop\n",
    "for patiënt in patiënten:\n",
    "    print(f\"Patiënt: {patiënt}\")\n",
    "\n",
    "# While-loop\n",
    "aantal = 0\n",
    "while aantal < 3:\n",
    "    print(f\"Aantal geregistreerde patiënten: {aantal}\")\n",
    "    aantal += 1\n"
   ]
  },
  {
   "cell_type": "markdown",
   "id": "c77d8e2e",
   "metadata": {},
   "source": [
    "## 9. PySpark DataFrame Basis"
   ]
  },
  {
   "cell_type": "code",
   "execution_count": null,
   "id": "633954cf",
   "metadata": {},
   "outputs": [],
   "source": [
    "from pyspark.sql import SparkSession\n",
    "from pyspark.sql.functions import col\n",
    "\n",
    "# SparkSession aanmaken\n",
    "spark = SparkSession.builder.appName(\"MenzisData\").getOrCreate()\n",
    "\n",
    "# Sample DataFrame\n",
    "data = [(\"Jan\", 45, \"Basis\"), (\"Marie\", 55, \"Uitgebreid\"), (\"Karin\", 60, \"Basis\")]\n",
    "columns = [\"Naam\", \"Leeftijd\", \"Verzekering\"]\n",
    "df = spark.createDataFrame(data, columns)\n",
    "\n",
    "df.show()\n"
   ]
  },
  {
   "cell_type": "markdown",
   "id": "af0d1596",
   "metadata": {},
   "source": [
    "## 10. PySpark Filteren en Selecteren"
   ]
  },
  {
   "cell_type": "code",
   "execution_count": null,
   "id": "6f2affdf",
   "metadata": {},
   "outputs": [],
   "source": [
    "# Patiënten ouder dan 50\n",
    "ouderen = df.filter(col(\"Leeftijd\") > 50)\n",
    "ouderen.show()\n"
   ]
  },
  {
   "cell_type": "markdown",
   "id": "d4639af3",
   "metadata": {},
   "source": [
    "## 11. PySpark Groeperen en Aggregaties"
   ]
  },
  {
   "cell_type": "code",
   "execution_count": null,
   "id": "fce2c76a",
   "metadata": {},
   "outputs": [],
   "source": [
    "# Aantal patiënten per verzekeringstype\n",
    "df.groupBy(\"Verzekering\").count().show()\n"
   ]
  },
  {
   "cell_type": "markdown",
   "id": "806695cf",
   "metadata": {},
   "source": [
    "## 12. PySpark Joins"
   ]
  },
  {
   "cell_type": "code",
   "execution_count": null,
   "id": "27a3771b",
   "metadata": {},
   "outputs": [],
   "source": [
    "# Extra dataset maken met medische kosten\n",
    "kosten_data = [(\"Jan\", 200), (\"Marie\", 350), (\"Karin\", 150)]\n",
    "kosten_columns = [\"Naam\", \"Kosten\"]\n",
    "kosten_df = spark.createDataFrame(kosten_data, kosten_columns)\n",
    "\n",
    "# Join uitvoeren op Naam\n",
    "df_kosten = df.join(kosten_df, \"Naam\", \"inner\")\n",
    "df_kosten.show()\n"
   ]
  }
 ],
 "metadata": {
  "kernelspec": {
   "display_name": "Python 3",
   "language": "python",
   "name": "python3"
  },
  "language_info": {
   "codemirror_mode": {
    "name": "ipython",
    "version": 3
   },
   "file_extension": ".py",
   "mimetype": "text/x-python",
   "name": "python",
   "nbconvert_exporter": "python",
   "pygments_lexer": "ipython3",
   "version": "3.12.4"
  }
 },
 "nbformat": 4,
 "nbformat_minor": 5
}
